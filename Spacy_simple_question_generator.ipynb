{
 "cells": [
  {
   "cell_type": "code",
   "execution_count": 2,
   "metadata": {},
   "outputs": [],
   "source": [
    "import en_core_web_lg\n",
    "import spacy\n",
    "from spacy import displacy\n"
   ]
  },
  {
   "cell_type": "code",
   "execution_count": 3,
   "metadata": {},
   "outputs": [],
   "source": [
    "nlp=en_core_web_lg.load()"
   ]
  },
  {
   "cell_type": "code",
   "execution_count": 4,
   "metadata": {},
   "outputs": [
    {
     "data": {
      "text/plain": [
       "'2.0.18'"
      ]
     },
     "execution_count": 4,
     "metadata": {},
     "output_type": "execute_result"
    }
   ],
   "source": [
    "spacy.__version__"
   ]
  },
  {
   "cell_type": "markdown",
   "metadata": {},
   "source": [
    "### Entity Recognition"
   ]
  },
  {
   "cell_type": "code",
   "execution_count": 6,
   "metadata": {},
   "outputs": [],
   "source": [
    "text=\"Hitler was born in Austria—then part of Austria-Hungary—and was raised near Linz. He moved to Germany in 1913 and was decorated during his service in the German Army in World War I. In 1919, he joined the German Workers' Party (DAP), the precursor of the NSDAP, and was appointed leader of the NSDAP in 1921. In 1923, he attempted to seize power in a failed coup in Munich and was imprisoned. In jail, he dictated the first volume of his autobiography and political manifesto Mein Kampf . After his release in 1924, Hitler gained popular support by attacking the Treaty of Versailles and promoting Pan-Germanism, anti-semitism and anti-communism with charismatic oratory and Nazi propaganda. He frequently denounced international capitalism and communism as part of a Jewish conspiracy\""
   ]
  },
  {
   "cell_type": "code",
   "execution_count": 8,
   "metadata": {},
   "outputs": [],
   "source": [
    "# Parse the text with spaCy. This runs the entire NLP pipeline.\n",
    "doc = nlp(text)"
   ]
  },
  {
   "cell_type": "code",
   "execution_count": 9,
   "metadata": {},
   "outputs": [
    {
     "name": "stdout",
     "output_type": "stream",
     "text": [
      "Hitler (PERSON)\n",
      "Austria (GPE)\n",
      "Austria (GPE)\n",
      "Linz (GPE)\n",
      "Germany (GPE)\n",
      "1913 (DATE)\n",
      "the German Army (ORG)\n",
      "World War I. (EVENT)\n",
      "1919 (DATE)\n",
      "the German Workers' Party (ORG)\n",
      "DAP (ORG)\n",
      "NSDAP (ORG)\n",
      "NSDAP (ORG)\n",
      "1921 (DATE)\n",
      "1923 (DATE)\n",
      "Munich (GPE)\n",
      "first (ORDINAL)\n",
      "Mein Kampf (PERSON)\n",
      "1924 (DATE)\n",
      "Hitler (PERSON)\n",
      "the Treaty of Versailles (LAW)\n",
      "Pan-Germanism (ORG)\n",
      "Nazi (NORP)\n",
      "Jewish (NORP)\n"
     ]
    }
   ],
   "source": [
    "for entity in doc.ents:\n",
    "    print(f\"{entity.text} ({entity.label_})\")"
   ]
  },
  {
   "cell_type": "markdown",
   "metadata": {},
   "source": [
    "##### Entities present in the text"
   ]
  },
  {
   "cell_type": "code",
   "execution_count": 10,
   "metadata": {},
   "outputs": [
    {
     "data": {
      "text/plain": [
       "(Hitler,\n",
       " Austria,\n",
       " Austria,\n",
       " Linz,\n",
       " Germany,\n",
       " 1913,\n",
       " the German Army,\n",
       " World War I.,\n",
       " 1919,\n",
       " the German Workers' Party,\n",
       " DAP,\n",
       " NSDAP,\n",
       " NSDAP,\n",
       " 1921,\n",
       " 1923,\n",
       " Munich,\n",
       " first,\n",
       " Mein Kampf,\n",
       " 1924,\n",
       " Hitler,\n",
       " the Treaty of Versailles,\n",
       " Pan-Germanism,\n",
       " Nazi,\n",
       " Jewish)"
      ]
     },
     "execution_count": 10,
     "metadata": {},
     "output_type": "execute_result"
    }
   ],
   "source": [
    "doc.ents"
   ]
  },
  {
   "cell_type": "code",
   "execution_count": 11,
   "metadata": {},
   "outputs": [
    {
     "data": {
      "text/plain": [
       "(379, 'NORP')"
      ]
     },
     "execution_count": 11,
     "metadata": {},
     "output_type": "execute_result"
    }
   ],
   "source": [
    "entity.label, entity.label_"
   ]
  },
  {
   "cell_type": "markdown",
   "metadata": {},
   "source": [
    "##### Get explaination of entities "
   ]
  },
  {
   "cell_type": "code",
   "execution_count": 12,
   "metadata": {},
   "outputs": [
    {
     "data": {
      "text/plain": [
       "'Named hurricanes, battles, wars, sports events, etc.'"
      ]
     },
     "execution_count": 12,
     "metadata": {},
     "output_type": "execute_result"
    }
   ],
   "source": [
    "spacy.explain('EVENT')"
   ]
  },
  {
   "cell_type": "code",
   "execution_count": 13,
   "metadata": {},
   "outputs": [],
   "source": [
    "text=\"India is a beautiful country. It got its independence in 1947\""
   ]
  },
  {
   "cell_type": "code",
   "execution_count": 14,
   "metadata": {},
   "outputs": [],
   "source": [
    "def explain_text(text):\n",
    "    doc = nlp(text)\n",
    "    for ent in doc.ents:\n",
    "        print(f'{ent}, Label: {ent.label_}, {spacy.explain(ent.label_)}')"
   ]
  },
  {
   "cell_type": "markdown",
   "metadata": {},
   "source": [
    "##### output with text and its corresponding entities and explanation"
   ]
  },
  {
   "cell_type": "code",
   "execution_count": 15,
   "metadata": {},
   "outputs": [
    {
     "name": "stdout",
     "output_type": "stream",
     "text": [
      "India, Label: GPE, Countries, cities, states\n",
      "1947, Label: DATE, Absolute or relative dates or periods\n"
     ]
    }
   ],
   "source": [
    "explain_text(text)"
   ]
  },
  {
   "cell_type": "markdown",
   "metadata": {},
   "source": [
    "#### Automatic Question generation"
   ]
  },
  {
   "cell_type": "code",
   "execution_count": 14,
   "metadata": {},
   "outputs": [],
   "source": [
    "text=\"Madhubani art (or Mithila painting) is practiced in the Mithila region of the Indian subcontinent. This painting is done with fingers, twigs, brushes, nib-pens, and matchsticks, etc. Using natural dyes and pigments, and is characterised by eye-catching geometrical patterns.[citation needed] There is ritual content for particular occasions, such as birth or marriage, and festivals, such as Holi, Surya Shasti, Kali Puja, Upanayana, Durga Puja.\""
   ]
  },
  {
   "cell_type": "code",
   "execution_count": 15,
   "metadata": {},
   "outputs": [],
   "source": [
    "\n",
    "doc = nlp(text)"
   ]
  },
  {
   "cell_type": "markdown",
   "metadata": {},
   "source": [
    "- We need noun chunks. Noun chunks are noun phrases - not a single word, but a short phrase which describes the noun. "
   ]
  },
  {
   "cell_type": "code",
   "execution_count": 16,
   "metadata": {},
   "outputs": [
    {
     "name": "stdout",
     "output_type": "stream",
     "text": [
      "sentence1 Madhubani art\n",
      "sentence1 Mithila painting\n",
      "sentence1 the Mithila region\n",
      "sentence1 the Indian subcontinent\n",
      "sentence2 This painting\n",
      "sentence2 fingers\n",
      "sentence2 twigs\n",
      "sentence2 brushes\n",
      "sentence2 nib-pens\n",
      "sentence2 matchsticks\n",
      "sentence3 natural dyes\n",
      "sentence3 pigments\n",
      "sentence3 eye-catching geometrical patterns.[citation\n",
      "sentence4 ritual content\n",
      "sentence4 particular occasions\n",
      "sentence4 birth\n",
      "sentence4 marriage\n",
      "sentence4 festivals\n",
      "sentence4 Holi\n",
      "sentence4 Surya Shasti\n",
      "sentence4 Kali Puja\n",
      "sentence4 Upanayana\n",
      "sentence4 Durga Puja\n"
     ]
    }
   ],
   "source": [
    "for idx, sentence in enumerate(doc.sents):\n",
    "    for noun in sentence.noun_chunks:\n",
    "        print(f'sentence{idx+1}', noun)"
   ]
  },
  {
   "cell_type": "code",
   "execution_count": 17,
   "metadata": {},
   "outputs": [
    {
     "name": "stdout",
     "output_type": "stream",
     "text": [
      "Madhubani PROPN NNP\n",
      "art NOUN NN\n",
      "( PUNCT -LRB-\n",
      "or CCONJ CC\n",
      "Mithila PROPN NNP\n",
      "painting NOUN NN\n",
      ") PUNCT -RRB-\n",
      "is VERB VBZ\n",
      "practiced VERB VBN\n",
      "in ADP IN\n",
      "the DET DT\n",
      "Mithila PROPN NNP\n",
      "region NOUN NN\n",
      "of ADP IN\n",
      "the DET DT\n",
      "Indian ADJ JJ\n",
      "subcontinent NOUN NN\n",
      ". PUNCT .\n",
      "This DET DT\n",
      "painting NOUN NN\n",
      "is VERB VBZ\n",
      "done VERB VBN\n",
      "with ADP IN\n",
      "fingers NOUN NNS\n",
      ", PUNCT ,\n",
      "twigs NOUN NNS\n",
      ", PUNCT ,\n",
      "brushes NOUN NNS\n",
      ", PUNCT ,\n",
      "nib NOUN NN\n",
      "- PUNCT HYPH\n",
      "pens NOUN NNS\n",
      ", PUNCT ,\n",
      "and CCONJ CC\n",
      "matchsticks NOUN NNS\n",
      ", PUNCT ,\n",
      "etc X FW\n",
      ". PUNCT .\n",
      "Using VERB VBG\n",
      "natural ADJ JJ\n",
      "dyes NOUN NNS\n",
      "and CCONJ CC\n",
      "pigments NOUN NNS\n",
      ", PUNCT ,\n",
      "and CCONJ CC\n",
      "is VERB VBZ\n",
      "characterised VERB VBN\n",
      "by ADP IN\n",
      "eye NOUN NN\n",
      "- PUNCT HYPH\n",
      "catching VERB VBG\n",
      "geometrical ADJ JJ\n",
      "patterns.[citation PROPN NNP\n",
      "needed VERB VBN\n",
      "] PUNCT -RRB-\n",
      "There ADV EX\n",
      "is VERB VBZ\n",
      "ritual NOUN NN\n",
      "content NOUN NN\n",
      "for ADP IN\n",
      "particular ADJ JJ\n",
      "occasions NOUN NNS\n",
      ", PUNCT ,\n",
      "such ADJ JJ\n",
      "as ADP IN\n",
      "birth NOUN NN\n",
      "or CCONJ CC\n",
      "marriage NOUN NN\n",
      ", PUNCT ,\n",
      "and CCONJ CC\n",
      "festivals NOUN NNS\n",
      ", PUNCT ,\n",
      "such ADJ JJ\n",
      "as ADP IN\n",
      "Holi PROPN NNP\n",
      ", PUNCT ,\n",
      "Surya PROPN NNP\n",
      "Shasti PROPN NNP\n",
      ", PUNCT ,\n",
      "Kali PROPN NNP\n",
      "Puja PROPN NNP\n",
      ", PUNCT ,\n",
      "Upanayana PROPN NNP\n",
      ", PUNCT ,\n",
      "Durga PROPN NNP\n",
      "Puja PROPN NNP\n",
      ". PUNCT .\n"
     ]
    }
   ],
   "source": [
    "for token in doc:\n",
    "    print(token, token.pos_, token.tag_)"
   ]
  },
  {
   "cell_type": "markdown",
   "metadata": {},
   "source": [
    "- https://spacy.io/api/annotation   ( to understand what are the abbrvations of POS)"
   ]
  },
  {
   "cell_type": "markdown",
   "metadata": {},
   "source": [
    "#### create rules to ask question"
   ]
  },
  {
   "cell_type": "code",
   "execution_count": 18,
   "metadata": {},
   "outputs": [],
   "source": [
    "\n",
    "ruleset = [\n",
    "    {\n",
    "        'id': 1, \n",
    "        'req_tags': ['NNP', 'VBZ', 'NN'],\n",
    "    }, \n",
    "    {\n",
    "        'id': 2, \n",
    "        'req_tags': ['NNP', 'VBZ'],\n",
    "    }\n",
    "    ]"
   ]
  },
  {
   "cell_type": "code",
   "execution_count": 19,
   "metadata": {},
   "outputs": [],
   "source": [
    "\n",
    "def get_pos_tag(doc, tag):\n",
    "    return [tok for tok in doc if tok.tag_ == tag]"
   ]
  },
  {
   "cell_type": "code",
   "execution_count": 20,
   "metadata": {},
   "outputs": [],
   "source": [
    "def sent_to_ques(sent:str)->str:\n",
    "    \"\"\"\n",
    "    Return a question string corresponding to a sentence string using a set of pre-written rules\n",
    "    \"\"\"\n",
    "    doc = nlp(sent)\n",
    "    pos_tags = [token.tag_ for token in doc]\n",
    "    for idx, rule in enumerate(ruleset):\n",
    "        if rule['id'] == 1:\n",
    "            if all(key in pos_tags for key in rule['req_tags']): \n",
    "                print(f\"Rule id {rule['id']} matched for sentence: {sent}\")\n",
    "                NNP = get_pos_tag(doc, \"NNP\")\n",
    "                NNP = str(NNP[0])\n",
    "                VBZ = get_pos_tag(doc, \"VBZ\")\n",
    "                VBZ = str(VBZ[0])\n",
    "                ques = f'What {VBZ} {NNP}?'\n",
    "                return(ques)\n",
    "        if rule['id'] == 2:\n",
    "            if all(key in pos_tags for key in rule['req_tags']): #'NNP', 'VBZ' in sentence.\n",
    "                print(f\"Rule id {rule['id']} matched for sentence: {sent}\")\n",
    "                NNP = get_pos_tag(doc, \"NNP\")\n",
    "                NNP = str(NNP[0])\n",
    "                VBZ = get_pos_tag(doc, \"VBZ\")\n",
    "                VBZ = str(VBZ[0].lemma_)\n",
    "                ques = f'What does {NNP} {VBZ}?'\n",
    "                return(ques)"
   ]
  },
  {
   "cell_type": "code",
   "execution_count": 21,
   "metadata": {},
   "outputs": [
    {
     "name": "stdout",
     "output_type": "stream",
     "text": [
      "Rule id 1 matched for sentence: Madhubani art (or Mithila painting) is practiced in the Mithila region of the Indian subcontinent.\n",
      "The generated question is: What is Madhubani?\n",
      "The generated question is: None\n",
      "Rule id 1 matched for sentence: Using natural dyes and pigments, and is characterised by eye-catching geometrical patterns.[citation needed]\n",
      "The generated question is: What is patterns.[citation?\n",
      "Rule id 1 matched for sentence: There is ritual content for particular occasions, such as birth or marriage, and festivals, such as Holi, Surya Shasti, Kali Puja, Upanayana, Durga Puja.\n",
      "The generated question is: What is Holi?\n"
     ]
    }
   ],
   "source": [
    "\n",
    "for sent in doc.sents:\n",
    "    print(f\"The generated question is: {sent_to_ques(str(sent))}\")"
   ]
  },
  {
   "cell_type": "code",
   "execution_count": null,
   "metadata": {},
   "outputs": [],
   "source": []
  }
 ],
 "metadata": {
  "kernelspec": {
   "display_name": "Python 3",
   "language": "python",
   "name": "python3"
  },
  "language_info": {
   "codemirror_mode": {
    "name": "ipython",
    "version": 3
   },
   "file_extension": ".py",
   "mimetype": "text/x-python",
   "name": "python",
   "nbconvert_exporter": "python",
   "pygments_lexer": "ipython3",
   "version": "3.7.2"
  }
 },
 "nbformat": 4,
 "nbformat_minor": 2
}
